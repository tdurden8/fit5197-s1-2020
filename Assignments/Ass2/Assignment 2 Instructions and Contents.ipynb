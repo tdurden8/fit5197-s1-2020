{
 "cells": [
  {
   "cell_type": "markdown",
   "metadata": {},
   "source": [
    "<h1> FIT5197 Assignment 2 Semester 1, 2020 </h1>\n",
    "    \n",
    "<h2> <span style=\"color:green\"> Do </span> & <span style=\"color:red\">Don't</span> </h2>\n",
    "\n",
    "1. <span style=\"color:green\">Some of these policies are similar to your assignment 1; however, please read carefully as there are some differences between this assignment and the first assignment.</span>\n",
    "\n",
    "3. <span style=\"color:green\">These questions are meant for you to solve independently, we encourage students to figure out the questions themselves as it would be good for their understandings of the topics; however, please feel free to consult your tutors if needed. Plagiarism (either from using online sources or copying the answers from your classmates) will be penalised accordingly.</span>\n",
    "\n",
    "5. <span style=\"color:green\">Requests for special consideration or extension must be submitted at least 2 days BEFORE THE DEADLINE. The due date is on Sunday, so the latest day you can ask for extension is on Friday (the last official working day of the week for the teaching team). Please follow Monash guidelines to request for extensions (medical certificates, doctor or GP letter, etc). Emergencies are to be adjusted individually.</span>\n",
    "\n",
    "8. <span style=\"color:green\">Please show all working when answering questions, you will not get full marks for a question if you don't comply.</span>\n",
    "\n",
    "11. <span style=\"color:green\">Assignments need to be submitted in PDF and ipynb file format. Failure to comply will result in 20% penalty on each missing file. </span>\n",
    "\n",
    "12. <span style=\"color:green\">Filename format for submitting the assignment should be “Assignment2_StudentId.pdf” and \"Assignment2_StudentId.ipynb\". Files with the wrong format incurs 20% penalty each.</span>\n",
    "\n",
    "13. <span style=\"color:green\">This assignment has 10 marks for presentation, this includes presenting your explanation in **Markdown**, writing and commenting on code efficiently, creating good plots with clear labels on the axis, etc.</span>\n",
    "\n",
    "14. <span style=\"color:green\">Only answers with correct methodology will be considered for consequential marks. Meaning if you attempt the question and your answer is incorrect, but your methodology is correct, you will still receive partial marks for subsequent questions. However, answers with incorrect methodology (misunderstanding the questions) will generate no marks for subsequent questions.</span>\n",
    "\n",
    "15. <span style=\"color:green\">Challenge questions are for students aiming to get a HD for the assignment. We don't advise for students to spend time on these questions before finishing all the other parts in the assignment. This assignment is designed in a way that students can get up to 80 (HD) without attempting the challenge questions.</span>\n",
    "\n",
    "10. <span style=\"color:red\">Please don’t send emails to tutors asking for suggestions, we have Moodle and consultations for that. When writing your inquiries on Moodle please try to be clear in your problem and not revealing your working to others as this might be counted as plagiarism on your part. A good format for inquiry topic would be e.g. “Assignment 2 – Tutorial 10 (your tutorial slot) – Question about median\"</span>\n",
    "\n",
    "2. <span style=\"color:red\">Handwritten answers incur a penalty of 10% on your assignment, you have Markdown, please learn how to use it as it will be an useful skill for you going through the degree as well as in real life situation.</span>\n",
    "\n",
    "3. This assignment will contribute towards 20% of your total score.\n",
    "\n",
    "7. Late submission is 5% per day, after 10 days you will be given no marks. Late submission is calculated as follows: If you get 70% on this assignment and you are late for 2 days (you submit on Tuesday), your score is now 70% -10% (2x5% per day) = 60%. This is done to ensure that the teaching team can release your result as soon as possible so that you can review on your mistakes and have a better study experience.\n",
    "\n",
    "9. Assignments shall be marked completely in two weeks’ time according to Monash Policies. If there are any changes to the marking time, we will duly inform you. Solutions will not be released for this assignment; you can come to the tutorial and ask for explanation about how to solve the questions after scores are released."
   ]
  },
  {
   "cell_type": "markdown",
   "metadata": {},
   "source": [
    "<h2>Question 1 - Probabilities (10 Marks)</h2>\n",
    "\n",
    "A box contains $n$ pairs of shoes ($2n$ shoes in total). If $2r$ (with the assumption that $2r \\leq n$) shoes are selected at random, find the probability for the following scenarios:"
   ]
  },
  {
   "cell_type": "markdown",
   "metadata": {},
   "source": [
    "<h3> Question 1a. (2 Marks)</h3>\n",
    "\n",
    "$A_0$ = ‘No matching pair’ "
   ]
  },
  {
   "cell_type": "markdown",
   "metadata": {},
   "source": [
    "YOUR ANSWER HERE"
   ]
  },
  {
   "cell_type": "markdown",
   "metadata": {},
   "source": [
    "<h3> Question 1b. (3 Marks)  </h3>\n",
    "\n",
    "$A_1$ = ‘only one matching pair’"
   ]
  },
  {
   "cell_type": "markdown",
   "metadata": {},
   "source": [
    "YOUR ANSWER HERE"
   ]
  },
  {
   "cell_type": "markdown",
   "metadata": {},
   "source": [
    "<h3> Question 1c. (2 Marks)</h3>\n",
    "\n",
    "$A_2$ = ‘exactly two matching pairs’"
   ]
  },
  {
   "cell_type": "markdown",
   "metadata": {},
   "source": [
    "YOUR ANSWER HERE"
   ]
  },
  {
   "cell_type": "markdown",
   "metadata": {},
   "source": [
    "<h3> Question 1d. (3 Marks)</h3>\n",
    "\n",
    "$A_r$ = ‘exactly r matching pairs’"
   ]
  },
  {
   "cell_type": "markdown",
   "metadata": {},
   "source": [
    "YOUR ANSWER HERE"
   ]
  },
  {
   "cell_type": "markdown",
   "metadata": {},
   "source": [
    "<h2>Question 2 - Conditional Probabilities & Entropy (30 Marks)</h2>\n",
    "\n",
    "<span style=\"color:red\"> **Warning, no built in functions to calculate probability or entropy from R should be used for this part. The only help you can get from R should be dataframe manipulation. Answers using functions will not be marked even if the answer is correct.**</span>\n",
    "\n",
    "Sports analytics (i.e., the application of data science techniques to competitive sports) is a rapidly growing area of data science. In this question we will look at some very basic analytics applied to the outcomes of consecutive games of English Premier League (EPL). The file chelsea.csv contains a record of the outcomes of games of EPL played by **Chelsea football club (CFC)** in the seasons from 1993 to 2018. The data is sequential, in the sense that each row recorded the result whether the home team wins (H), the away team wins (A), or there is a draw (D).\n",
    "\n",
    "**Please show all working including code and presentation for this question**\n",
    "\n",
    "<h2>Part 1: Analyzing Home/Away performance (17 Marks)</h2>"
   ]
  },
  {
   "cell_type": "markdown",
   "metadata": {},
   "source": [
    "<h3> Question 2.a (3 Marks)</h3>\n",
    "\n",
    "Find out the probabilities **P(Chelsea Wins), P(Chelsea Loses), and P(Chelsea Draws)**. This includes all the results both home and away."
   ]
  },
  {
   "cell_type": "markdown",
   "metadata": {},
   "source": [
    "YOUR ANSWER HERE"
   ]
  },
  {
   "cell_type": "markdown",
   "metadata": {},
   "source": [
    "<h3> Question 2.b (6 Marks)</h3>\n",
    "\n",
    "Find out the conditional probabilities: \n",
    "\n",
    "1. **P(Chelsea Wins| Playing at Home)**\n",
    "2. **P(Chelsea Wins| Playing away)**\n",
    "2. **P(Chelsea Draws| Playing at Home)**\n",
    "4. **P(Chelsea Draws| Playing away)**\n",
    "5. **P(Chelsea Loses| Playing at Home)**\n",
    "6. **P(Chelsea Loses| Playing away)**\n",
    "\n",
    "Please make comparison and a general conclusion."
   ]
  },
  {
   "cell_type": "markdown",
   "metadata": {},
   "source": [
    "YOUR ANSWER HERE"
   ]
  },
  {
   "cell_type": "markdown",
   "metadata": {},
   "source": [
    "<h3> Question 2.c (3 Marks)</h3>\n",
    "\n",
    "Find $H($Chelsea Results$)$ this includes results in both home and away games"
   ]
  },
  {
   "cell_type": "markdown",
   "metadata": {},
   "source": [
    "YOUR ANSWER HERE"
   ]
  },
  {
   "cell_type": "markdown",
   "metadata": {},
   "source": [
    "<h3> Question 2.d (5 Marks)</h3>\n",
    "\n",
    "Is knowing whether Chelsea plays at home or away a good indicator in knowing the result of CFC games? Show your justification (answering just yes or no will not be given any marks) by calculating all the information necessary using the knowledge you have learnt so far in the unit. \n",
    "\n",
    "**Note that this is a challenge question, only attempt if you are comfortable with your progress. You should not use consultations to ask for this question as the tutors will proritize answering queries about other questions.**"
   ]
  },
  {
   "cell_type": "markdown",
   "metadata": {},
   "source": [
    "YOUR ANSWER HERE"
   ]
  },
  {
   "cell_type": "markdown",
   "metadata": {},
   "source": [
    "<h2>Part 2: Analyzing effects of previous results on future results (13 Marks)</h2>\n",
    "\n",
    "<span style=\"color:red\">**This is a new part of the question, this part will focus on a different aspects compared to part I. Objectively speaking, this part is harder compared to the previous one; thus, it has lower mark allocation, students are advised to spend time on this part if they want to achieve desirable outcome.** </span>\n",
    "\n",
    "Based on the data given to you, please create another column named \"binary\". This column will record a win $($corresponding to $1)$ or a loss/draw $($corresponding to $0)$ in the order in which the games were played by CFC.\n",
    "\n",
    "A simple question regarding this type of data might be regarding the existence of (de)motivativing effects on a team if they have won / not won their previous game. Let $W_t$ denote the binary outcome of a game in round $t$ and $W_{t−1}$ denote the outcome of the game played in the previous round. Answer the following questions; **you must provide working/justification.**\n"
   ]
  },
  {
   "cell_type": "markdown",
   "metadata": {},
   "source": [
    "<h3> Question 2.e (4 Marks)</h3>\n",
    "\n",
    "Using the data in **chelsea.csv** and the new column you just created for this task, write R code to **find the frequency** with which CFC won / did not win a game after it won / did not win its previous game. Using these frequencies, calculate the joint distributions $P(W_t = 0, W_{t-1} =0)$, $P(W_t = 1, W_{t-1} = 0)$, $P(W_t = 1, W_{t-1} = 1)$, and $P(W_t = 0, W_{t-1} = 1)$. We suggest students create another column from the original dataframe to solve this question. Please read this question carefully before attempting."
   ]
  },
  {
   "cell_type": "markdown",
   "metadata": {},
   "source": [
    "YOUR ANSWER HERE"
   ]
  },
  {
   "cell_type": "markdown",
   "metadata": {},
   "source": [
    "<h3> Question 2.f (2 Marks)</h3>\n",
    "\n",
    "What is the probability that CFC will win a game given that they won their previous game?"
   ]
  },
  {
   "cell_type": "markdown",
   "metadata": {},
   "source": [
    "YOUR ANSWER HERE"
   ]
  },
  {
   "cell_type": "markdown",
   "metadata": {},
   "source": [
    "<h3> Question 2.g (2 Marks)</h3>\n",
    "\n",
    "What is the probability that CFC will win a game given that they didn't win their previous game?"
   ]
  },
  {
   "cell_type": "markdown",
   "metadata": {},
   "source": [
    "YOUR ANSWER HERE"
   ]
  },
  {
   "cell_type": "markdown",
   "metadata": {},
   "source": [
    "<h3> Question 2.h (2 Marks)</h3>\n",
    "\n",
    "Do you think winning/not winning the previous game had an effect on the CFC players in their next game? Justify your answer? **(Note that this is different compared to 2.d)**"
   ]
  },
  {
   "cell_type": "markdown",
   "metadata": {},
   "source": [
    "YOUR ANSWER HERE"
   ]
  },
  {
   "cell_type": "markdown",
   "metadata": {},
   "source": [
    "<h3> Question 2.i (3 Marks)</h3>\n",
    "\n",
    "Calculate the probability of CFC not winning their next two games given that they won their previous game."
   ]
  },
  {
   "cell_type": "markdown",
   "metadata": {},
   "source": [
    "YOUR ANSWER HERE"
   ]
  },
  {
   "cell_type": "markdown",
   "metadata": {},
   "source": [
    "<h2>Question 3 - Expectation - Challenge Question (10 Marks)</h2>\n",
    "\n",
    "Randomly place a point $P$ inside triangle $ABC$. Let $X$ be the continuous random variable representing the distance from point $P$ to $AB$. Find out $E(X)$ & $Var(X)$ (**5 Marks each**)\n",
    "\n",
    "**Note that this is a challenge question, only attempt if you are comfortable with your progress. You should not use consultations to ask about this question as the tutors will prioritize answering queries about other questions.**"
   ]
  },
  {
   "cell_type": "markdown",
   "metadata": {},
   "source": [
    "YOUR ANSWER HERE"
   ]
  },
  {
   "cell_type": "markdown",
   "metadata": {},
   "source": [
    "<h2>Question 4 - Distribution (10 Marks)</h2>\n",
    "\n",
    "The teaching team of FIT5197 is required to prepare 4 questions each week for the next week’s tutorial. The number of questions created in a week is said to have a Poisson distribution with mean 6."
   ]
  },
  {
   "cell_type": "markdown",
   "metadata": {},
   "source": [
    "<h3> Question 4.a (2 Marks) </h3>\n",
    "\n",
    "Find the probability that the teaching team manages to write enough questions for the following week?"
   ]
  },
  {
   "cell_type": "markdown",
   "metadata": {},
   "source": [
    "YOUR ANSWER HERE"
   ]
  },
  {
   "cell_type": "markdown",
   "metadata": {},
   "source": [
    "<h3> Question 4.b (4 Marks) </h3>\n",
    "\n",
    "Since some of the tutors in the teaching team are also responsible for other units from FIT, for each week, there is a probability of 40% that only half of the team will work on the questions. If that is the case, the teaching team can only create 3 questions on average. If the teaching team fails to finish 4 questions one week, what is the probability that only half of the team works that week?\n"
   ]
  },
  {
   "cell_type": "markdown",
   "metadata": {},
   "source": [
    "YOUR ANSWER HERE"
   ]
  },
  {
   "cell_type": "markdown",
   "metadata": {},
   "source": [
    "<h3> Question 4.c (4 Marks) </h3>\n",
    "\n",
    "On week 12, the teaching team decides to no longer limit to 4 questions, and instead use every question they create. If a student has a 40% chance of correctly answering questions, and this student is expected to answer 2 questions correctly in the coming tutorial, what is the probability that the whole teaching team worked on creating the questions that week?"
   ]
  },
  {
   "cell_type": "markdown",
   "metadata": {},
   "source": [
    "YOUR ANSWER HERE"
   ]
  },
  {
   "cell_type": "markdown",
   "metadata": {},
   "source": [
    "<h2>Question 5 - Maximum Likelihood Estimation (15 Marks)</h2>\n",
    "\n",
    "The exponential distribution is a probability distribution for non-negative real numbers. It is often used to model waiting or survival times. The version that we will look at has a probability density function of the form\n",
    "\n",
    "$p(y | v) = exp(−e^{−v}y − v)$\n",
    "\n",
    "where $y ∈ R_+$, i.e., y can take on the values of non-negative real numbers. In this form it has one parameter: a log-scale parameter $v$.  If a random variable follows an ``exponential distribution`` with log-scale $v$ we say that $Y ∼ Exp(v)$. If $Y ∼ Exp(v)$, then $E[Y] = e^v$ and $V[Y] = e^{2v}$."
   ]
  },
  {
   "cell_type": "markdown",
   "metadata": {},
   "source": [
    "<h3> Question 5.a (4 Marks) </h3>\n",
    "\n",
    "Imagine we are given a sample of n observations $y = (y_1, . . . , y_n)$. Write down the joint probability of this sample of data, under the assumption that it came from an exponential distribution with log-scale parameter $v$ (i.e., write down the likelihood of this data). Make sure to simplify your expression, and provide working."
   ]
  },
  {
   "cell_type": "markdown",
   "metadata": {},
   "source": [
    "YOUR ANSWER HERE"
   ]
  },
  {
   "cell_type": "markdown",
   "metadata": {},
   "source": [
    "<h3> Question 5.b (2 Marks) </h3>\n",
    "\n",
    "Take the negative logarithm of your likelihood expression and write down the negative loglikelihood of the data $y$ under the exponential model with log-scale $v$. Simplify this expression"
   ]
  },
  {
   "cell_type": "markdown",
   "metadata": {},
   "source": [
    "YOUR ANSWER HERE"
   ]
  },
  {
   "cell_type": "markdown",
   "metadata": {},
   "source": [
    "<h3> Question 5.c (4 Marks) </h3>\n",
    "\n",
    "Derive the maximum likelihood estimator $\\hat{v}$ for $v$. That is, find the value of $v$ that minimises the negative log-likelihood. You must provide working."
   ]
  },
  {
   "cell_type": "markdown",
   "metadata": {},
   "source": [
    "YOUR ANSWER HERE"
   ]
  },
  {
   "cell_type": "markdown",
   "metadata": {},
   "source": [
    "<h3> Question 5.d (5 Marks) </h3>\n",
    "\n",
    "Determine the approximate bias and variance of the maximum likelihood estimator $\\hat{v}$ of $v$ for the exponential distribution.\n",
    "\n",
    "**Note that this is a challenge question, only attempt if you are comfortable with your progress. You should not use consultations to ask about this question as the tutors will proritize answering queries about other questions.**"
   ]
  },
  {
   "cell_type": "markdown",
   "metadata": {},
   "source": [
    "YOUR ANSWER HERE"
   ]
  },
  {
   "cell_type": "markdown",
   "metadata": {},
   "source": [
    "<h2>Question 6 - Central Limit Theorem (15 Marks)</h2>\n",
    "\n",
    "Sampling Process: Assume that we randomly select samples of the same size $n$ an infinite number of times from a population that follows a Poisson distribution with mean of $\\lambda$, and then, we calculate the mean of scores in each sample. "
   ]
  },
  {
   "cell_type": "markdown",
   "metadata": {},
   "source": [
    "<h3> Question 6.a (2 Marks) </h3>\n",
    "\n",
    "What does Central Limit Theorem tell us about the sampling distribution of the sample mean?"
   ]
  },
  {
   "cell_type": "markdown",
   "metadata": {},
   "source": [
    "YOUR ANSWER HERE"
   ]
  },
  {
   "cell_type": "markdown",
   "metadata": {},
   "source": [
    "<h3> Question 6.b (3 Marks) </h3>\n",
    "\n",
    "For three different Poisson populations with mean of $\\lambda_1$ = 1, $\\lambda_2$ = 5 and $\\lambda_3$ = 20, we will do the sampling four separate times -- for small samples (n=10), for samples of 100 subjects (n=100) and 1000 subjects (n=1000), and once for big samples (n=10000).\n",
    "\n",
    "Based on your answer from 6.a, compute the parameter values for each sampling distribution in R. "
   ]
  },
  {
   "cell_type": "markdown",
   "metadata": {},
   "source": [
    "YOUR ANSWER HERE"
   ]
  },
  {
   "cell_type": "markdown",
   "metadata": {},
   "source": [
    "<h3> Question 6.c (5 Marks) </h3>\n",
    "\n",
    "In this question, you are asked to experimentally justify the result in the CLT Theorem.\n",
    "\n",
    "For different sample sizes of $n$ = 10, 100 and 1000, use 50000 simulations (i.e. to approximate the infinite times we drew samples as mentioned before) to implement the sampling process.\n",
    "\n",
    "From those 50000 sample means, compute the mean and standard deviation parameters (3 sample sizes and 3 $\\lambda$ rates, 9 pairs of parameters in total).\n",
    "\n",
    "Discuss how the results reflect the CLT. Plot the results ( mean and standard deviation separately) to demonstrate any effects you want to discuss."
   ]
  },
  {
   "cell_type": "markdown",
   "metadata": {},
   "source": [
    "YOUR ANSWER HERE"
   ]
  },
  {
   "cell_type": "markdown",
   "metadata": {},
   "source": [
    "<h3> Question 6.d (5 Marks) </h3>\n",
    "\n",
    "When rate $\\lambda_1$ = 1 and $\\lambda_2$ = 5 and sample size $n$ is 10 or 100, obtain the z scores of the sample means (from 50000 simulations). Plot their distributions in a histogram with the theoretical Gaussian curve overlaid.\n",
    "\n",
    "Note that for sample size 100, the plots overlay very nicely. But what happens with sample size 10? Explain the\n",
    "differences between the four plots.\n",
    "\n",
    "For each simulation: the z score of the mean can be calculated as:\n",
    "$$\n",
    "\\frac{(\\bar{X}-\\mu)}{\\sigma / \\sqrt{n}}\n",
    "$$\n",
    "where $\\bar{X}$ is the mean of the sample, $\\mu$ is the population mean and $\\sigma$ is the population standard deviation."
   ]
  },
  {
   "cell_type": "markdown",
   "metadata": {},
   "source": [
    "YOUR ANSWER HERE"
   ]
  }
 ],
 "metadata": {
  "kernelspec": {
   "display_name": "R",
   "language": "R",
   "name": "ir"
  },
  "language_info": {
   "codemirror_mode": "r",
   "file_extension": ".r",
   "mimetype": "text/x-r-source",
   "name": "R",
   "pygments_lexer": "r",
   "version": "3.6.1"
  }
 },
 "nbformat": 4,
 "nbformat_minor": 2
}

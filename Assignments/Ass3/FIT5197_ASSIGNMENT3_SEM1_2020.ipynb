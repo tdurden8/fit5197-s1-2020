{
 "cells": [
  {
   "cell_type": "markdown",
   "metadata": {},
   "source": [
    "<h1> FIT5197 Assignment 3 Semester 1, 2020 </h1>\n",
    "    \n",
    "<h2> <span style=\"color:green\"> Do </span> & <span style=\"color:red\">Don't</span> </h2>\n",
    "\n",
    "1. <span style=\"color:green\">Some of these policies are similar to your assignment 1; however, please read carefully as there are some differences between this assignment and the first assignment.</span>\n",
    "\n",
    "3. <span style=\"color:green\">These questions are meant for you to solve independently, we encourage students to figure out the questions themselves as it would be good for their understandings of the topics; however, please feel free to consult your tutors if needed. Plagiarism (either from using online sources or copying the answers from your classmates) will be penalised accordingly.</span>\n",
    "\n",
    "5. <span style=\"color:green\">Requests for special consideration or extension must be submitted at least 2 days BEFORE THE DEADLINE. The due date is on Sunday, so the latest day you can ask for extension is on Friday (the last official working day of the week for the teaching team). Please follow Monash guideline to request for extensions (medical certificates, doctor or GP letter, etc). Emergencies are to be adjusted individually.</span>\n",
    "\n",
    "8. <span style=\"color:green\">Please show all working when answering questions, you will not get full marks for a question if you don't comply.</span>\n",
    "\n",
    "11. <span style=\"color:green\">Assignments need to be submitted in PDF and ipynb file format. Failure to comply will result in 20% penalty on each missing file. </span>\n",
    "\n",
    "12. <span style=\"color:green\">Filename format for submitting the assignment should be “Assignment3_StudentId.pdf” and \"Assignment3_StudentId.ipynb\". Files with the wrong format incurs 20% penalty each.</span>\n",
    "\n",
    "13. <span style=\"color:green\">This assignment has 10 marks for presentation, this includes presenting your explanation in **Markdown**, writing and commenting on code efficiently, creating good plots with clear labels on the axis, etc.</span>\n",
    "\n",
    "14. <span style=\"color:green\">Only answers with correct methodology will be considered for consequential marks. Meaning if you attempt the question and your answer is incorrect, but your methodology is correct, you will still receive partial marks for subsequent questions. However, answers with incorrect methodology (misunderstanding the questions) will generate no marks for subsequent questions.</span>\n",
    "\n",
    "15. <span style=\"color:green\">Challenge questions are for students aiming to get a HD for the assignment. We don't advise for students to spend time on these questions before finishing all the other parts in the assignment. This assignment is designed in a way that students can get up to 80 (HD) without attempting the challenge questions.</span>\n",
    "\n",
    "10. <span style=\"color:red\">Please don’t send emails to tutors asking for suggestions, we have Moodle and consultations for that, In writing your inquiries on Moodle please try to be clear in your problem and not revealing your working to others as this might be counted as plagiarism on your part. A good format for inquiry topic would be e.g. “Assignment 3 – Tutorial 10 (your tutorial slot) – Question about median\"</span>\n",
    "\n",
    "2. <span style=\"color:red\">Handwritten answers incur a penalty of 10% on your assignment, you have Markdown, please learn how to use it as it will be an useful skill for you going through the degree as well as in real life situation.</span>\n",
    "\n",
    "3. This assignment will contribute towards 20% of your total score.\n",
    "\n",
    "7. Late submission is 5% per day, after 10 days you will be given no marks. Late submission is calculated as follows: If you get 70% on this assignment and you are late for 2 days (you submit on Tuesday), your score is now 70% -10% (2x5% per day) = 60%. This is done to ensure that the teaching team can release your result as soon as possible so that you can review on your mistakes and have a better study experience.\n",
    "\n",
    "9. Assignments shall be marked completely in two weeks’ time according to Monash Policies. If there are any changes to the marking time, we will duly inform you. Solutions will not be released for this assignment; you can come to the tutorial and ask for explanation about how to solve the questions after scores are released."
   ]
  },
  {
   "cell_type": "markdown",
   "metadata": {},
   "source": [
    "<h2>Part 1 - Hypothesis Testing & Confidence Interval (45 Marks)</h2>\n",
    "\n",
    "__<span style=\"color:red\"> No R codes, libraries of any kinds should be used in this part, using libraries here results in 0 marks</span>__"
   ]
  },
  {
   "cell_type": "markdown",
   "metadata": {},
   "source": [
    "<h3> Question 1. (5 Marks)</h3>\n",
    "\n",
    "An online article believe that teenagers currently spends at least 10h online per week (should be significantly higher than this). the principal of one highschool believes that her students spend significantly less time online; thus, she would like to perform an experimental testing on the subject by collecting 100 surveys from her students. The results came back that the average time the students claim spending online is roughly 8.5 hours/week with the standard deviation of 2h.\n",
    "\n",
    "**Based on these findings, What would be your conclusion on the matter? Use a 0.05 level of significance.**"
   ]
  },
  {
   "cell_type": "markdown",
   "metadata": {},
   "source": [
    "YOUR ANSWER HERE"
   ]
  },
  {
   "cell_type": "markdown",
   "metadata": {},
   "source": [
    "<h3> Question 2. (10 Marks)</h3>\n",
    "\n",
    "The light bulb in Monash university normally has a lifetime of about 1500 hours with a standard deviation of 100 hours. How many of these light bulbs should Monash stock up so that it can guarrantee that the light will be on for at least 7200 hours with a probability of at least 98%?"
   ]
  },
  {
   "cell_type": "markdown",
   "metadata": {},
   "source": [
    "YOUR ANSWER HERE"
   ]
  },
  {
   "cell_type": "markdown",
   "metadata": {},
   "source": [
    "<h3> Question 3. (10 Marks)  </h3>\n",
    "\n",
    "The error for the production of a machine is uniformly distribute over [-0.75, 0.75] unit. Assuming that there are 100 machines working at the same time, approximate the probability that the final production differ from the exact production by more than 4.5 unit?\n"
   ]
  },
  {
   "cell_type": "markdown",
   "metadata": {},
   "source": [
    "YOUR ANSWER HERE"
   ]
  },
  {
   "cell_type": "markdown",
   "metadata": {},
   "source": [
    "<h3> Question 4. (5 Marks)</h3>\n",
    "\n",
    "A very successful car washing shop has roughly **2.4 million dollar** revenue every year. Since this is quite a large amount of money for a car washing shop, the **IRS (tax people)** wants to check whether this establishment is laundering money (sounds familiar?); however, due to the limited resources, they want to be **95% confident** in their decision; thus, they send an investigator to record the daily number of customers and record down how much that each customers have to pay on average for the service. The investigator came back and reported that there are roughly **2,000 customers for the month** and each one of them paying roughly **80 dollars on average** for the services with a **standard deviation of 30 dollars**. Given this information, what is the approximate probability that the car washing shop can achieve it current claimed revenue and what would be your conclusion here about the legitimacy of this car washing shop **(i.e whether they are laundering money or not)**?"
   ]
  },
  {
   "cell_type": "markdown",
   "metadata": {},
   "source": [
    "YOUR ANSWER HERE"
   ]
  },
  {
   "cell_type": "markdown",
   "metadata": {},
   "source": [
    "<h3> Question 5. (10 Marks)</h3>\n",
    "\n",
    "**<span style=\"color:red\">Note that this is a challenge question, only attempt if you are comfortable with your progress. You should not use consultations to ask about this question as the tutors will prioritize answering queries about other questions.</span>**\n",
    "\n",
    "Let $X \\sim Binom(n, p = 0.6)$. What would be the lowest value for $n$ such that $Pr(\\frac{X}{n} > \\frac{1}{4}) \\geq 0.99$"
   ]
  },
  {
   "cell_type": "markdown",
   "metadata": {},
   "source": [
    "YOUR ANSWER HERE"
   ]
  },
  {
   "cell_type": "markdown",
   "metadata": {},
   "source": [
    "<h3> Question 6. (5 Marks)</h3>\n",
    "\n",
    "**<span style=\"color:red\"> Note that this is a challenge question, only attempt if you are comfortable with your progress. You should not use consultations to ask about this question as the tutors will prioritize answering queries about other questions.</span>**\n",
    "\n",
    "Let $X_{1}, X_{2}, \\ldots, X_{n}$ be a random sample from a Poisson distribution with mean\n",
    "$\\lambda .$ Thus, $Y=\\sum_{i=1}^{n} X_{i}$ has a Poisson distribution with mean $n \\lambda .$ Moreover, by the Central limit Theorem, $\\bar{X}=Y / n$ has, approximately, a Normal $(\\lambda, \\lambda / n)$ distribution for large $n$. Show that for large values of $n,$ the distribution of\n",
    "$$\n",
    "2 \\sqrt{n}\\left(\\sqrt{\\frac{Y}{n}}-\\sqrt{\\lambda}\\right)\n",
    "$$\n",
    "is independent of $\\lambda$."
   ]
  },
  {
   "cell_type": "markdown",
   "metadata": {},
   "source": [
    "YOUR ANSWER HERE"
   ]
  },
  {
   "cell_type": "markdown",
   "metadata": {},
   "source": [
    "<h2>Part 2 - Modelling and Data Analysis (20 Marks)</h2>\n",
    "\n",
    "__<span style=\"color:red\">No libraries should be used in this part</span>__"
   ]
  },
  {
   "cell_type": "markdown",
   "metadata": {},
   "source": [
    "\n",
    "This question will require you to analyse a regression dataset. In particular, you will be looking at predicting the fuel efficiency of a car (in kilometers per litre) based on characteristics of the car and its engine. This is clearly an important and useful problem. The dataset **fuel2017-20.csv** contains $n=2,000$ observations on $p=9$ predictors obtained from actual fuel efficiency tables for car models available for sale during the years 2017 through to 2020. The target is the fuel efficiency of the car measured in kilometers per litre. The higher this score, the better the fuel efficiency of the car. Provide working/R code/justifications for each of these questions as required."
   ]
  },
  {
   "cell_type": "markdown",
   "metadata": {},
   "source": [
    "<h3> Question 1 (4 Marks) </h3>\n",
    "\n",
    "Fit a multiple linear model to the fuel efficiency data using R. Using the results of fitting the linear model, which predictors do you think are possibly associated with fuel efficiency, and why? Which three variables appear to be the strongest predictors of fuel efficiency, and why? $[2 \\text { marks }]$"
   ]
  },
  {
   "cell_type": "markdown",
   "metadata": {},
   "source": [
    "YOUR ANSWER HERE"
   ]
  },
  {
   "cell_type": "markdown",
   "metadata": {},
   "source": [
    "<h3> Question 2 (5 Marks) </h3>\n",
    "\n",
    "Describe what effect the year of manufacture (Model. Year) appears to have on the mean fuel efficiency. Describe the effect that the number of gears (No. Gears) variable has on the mean fuel efficiency of the car."
   ]
  },
  {
   "cell_type": "markdown",
   "metadata": {},
   "source": [
    "YOUR ANSWER HERE"
   ]
  },
  {
   "cell_type": "markdown",
   "metadata": {},
   "source": [
    "<h3> Question 3 (3 Marks) </h3>\n",
    "\n",
    "Use the stepwise selection procedure with the BIC penalty to prune out potentially unimportant variables. Write down the final regression equation obtained after pruning."
   ]
  },
  {
   "cell_type": "markdown",
   "metadata": {},
   "source": [
    "YOUR ANSWER HERE"
   ]
  },
  {
   "cell_type": "markdown",
   "metadata": {},
   "source": [
    "<h3> Question 4 (4 Marks) </h3>\n",
    "\n",
    "If we wanted to improve the fuel efficiency of our car, what does this BIC model suggest we could do?"
   ]
  },
  {
   "cell_type": "markdown",
   "metadata": {},
   "source": [
    "YOUR ANSWER HERE"
   ]
  },
  {
   "cell_type": "markdown",
   "metadata": {},
   "source": [
    "<h3> Question 5 (4 Marks) </h3>\n",
    "\n",
    "Imagine that you are looking for a new car to buy to replace your existing car. Load the dataset **fuel2017-20.test.csv**. The characteristics of the new car that you are looking at are given by the first row of this dataset.\n",
    "    \n",
    "    (a) Use your BIC model to predict the mean fuel efficiency for this new car. Provide a 95% confidence interval for this prediction. [ 2 mark]\n",
    "    (b) The current car that you own has a mean fuel efficiency of 8.5 km/l (measured over the life time of your ownership). Does your model suggest that the new car will have better fuel efficiency than your current car? [2 mark]"
   ]
  },
  {
   "cell_type": "markdown",
   "metadata": {},
   "source": [
    "YOUR ANSWER HERE"
   ]
  },
  {
   "cell_type": "markdown",
   "metadata": {},
   "source": [
    "<h2>Part 3 - Simulation (25 Marks)</h2>\n",
    "\n",
    "__<span style=\"color:red\">No libraries should be used in this part</span>__\n",
    "\n",
    "This part of the assignment will deal with **Rejection Sampling & Inverse Sampling**."
   ]
  },
  {
   "cell_type": "markdown",
   "metadata": {},
   "source": [
    "<h3>Question 1 - Inverse Sampling (10 Marks)</h3>\n",
    "\n",
    "Given the following distribution:\n",
    "$$\n",
    "\\operatorname{PDF(x)} = e^{-x^2\\pi} \\text{ for x } [-\\infty, +\\infty]\n",
    "$$"
   ]
  },
  {
   "cell_type": "markdown",
   "metadata": {},
   "source": [
    "<h4>Question 1.a (4 Marks)</h4>\n",
    "\n",
    "Perform the Inverse Sampling Process as you have learnt from the tutorial and lecture"
   ]
  },
  {
   "cell_type": "markdown",
   "metadata": {},
   "source": [
    "YOUR ANSWER HERE"
   ]
  },
  {
   "cell_type": "markdown",
   "metadata": {},
   "source": [
    "<h4>Question 1.b (3 Marks)</h4>\n",
    "\n",
    "Write the code for this inverse sampling process based on the result you obtain from the previous part. ie. You should write a function that take in a vector of number and return the corresponding samples for these inputs. The better your function is (errors handling, comments, variable names, etc) the higher the score you will get for this particular part.\n",
    "\n",
    "The vector of number that you should use to test your function will be provided below, please kindly print the result obtained from your function in your answer (if you don't print the final result to the terminal, you automatically lose half the mark)"
   ]
  },
  {
   "cell_type": "code",
   "execution_count": 1,
   "metadata": {},
   "outputs": [
    {
     "name": "stdout",
     "output_type": "stream",
     "text": [
      " [1] 0.26550866 0.57285336 0.20168193 0.94467527 0.62911404 0.20597457\n",
      " [7] 0.68702285 0.76984142 0.71761851 0.38003518 0.93470523 0.65167376\n",
      "[13] 0.26722067 0.01339034 0.86969085 0.48208011 0.49354130 0.82737332\n",
      "[19] 0.79423986 0.72371094 0.82094630 0.78293276 0.52971958 0.02333120\n",
      "[25] 0.73231374 0.47761962 0.43809711 0.07067905 0.31627170 0.66200508\n"
     ]
    }
   ],
   "source": [
    "# Please use this vector to test your function\n",
    "v <- c(0.265508661956518, 0.572853363366483, 0.201681933540029, 0.944675271666033, 0.629114039702611, 0.205974572722292, 0.687022845328627, 0.769841421378398, 0.717618510066763, 0.380035182665625, 0.934705229194034, 0.651673764925861, 0.267220671371476, 0.0133903353094157, 0.8696908454623, 0.482080113884552, 0.493541301684213, 0.827373323354622, 0.794239857106981, 0.723710942352373, 0.820946295910032, 0.782932762451741, 0.529719582120748, 0.0233311986716842, 0.732313742434469, 0.477619624593925, 0.43809710625408, 0.0706790469547075, 0.316271703829127, 0.662005077353345)\n",
    "print(v)"
   ]
  },
  {
   "cell_type": "markdown",
   "metadata": {},
   "source": [
    "YOUR ANSWER HERE"
   ]
  },
  {
   "cell_type": "markdown",
   "metadata": {},
   "source": [
    "<h4> Question 1.c (3 Marks)</h4>\n",
    "\n",
    "Please provide 100 sample for this distribution using all the answers you have completed so far. Please set your random number seed to 1 (<span style=\"color:red\">**You should not ask your tutor what setting random number means, if you don't know what this means, go back and read materials from your tutorials**</span>)"
   ]
  },
  {
   "cell_type": "markdown",
   "metadata": {},
   "source": [
    "YOUR ANSWER HERE"
   ]
  },
  {
   "cell_type": "markdown",
   "metadata": {},
   "source": [
    "<h3>Question 2 - Rejection Sampling (15 Marks)</h3>\n",
    "\n",
    "Using the same distribution as the previous question:\n",
    "\n",
    "$$\n",
    "\\operatorname{PDF(x)} = e^{-x^2\\pi} \\text{ for x } [-\\infty, +\\infty]\n",
    "$$\n",
    "\n",
    "please complete these following questions:"
   ]
  },
  {
   "cell_type": "markdown",
   "metadata": {},
   "source": [
    "<h4> Question 2.a (3 Marks) </h4>\n",
    "\n",
    "In Rejection Sampling, you would sample from the proposal within a certain range. Your task here includes finding an appropriate range to sample from for the proposal distribution. Giving the range without proper explanation receives 0 mark."
   ]
  },
  {
   "cell_type": "markdown",
   "metadata": {},
   "source": [
    "YOUR ANSWER HERE"
   ]
  },
  {
   "cell_type": "markdown",
   "metadata": {},
   "source": [
    "<h4> Question 2.b (3 Marks) </h4>\n",
    "\n",
    "Please write down rejection sampling process for this distribution here, let's say that the range is $[-2, 2]$ for the proposal distribution. (if you think using this answer for the previous part is a good idea, it is not)"
   ]
  },
  {
   "cell_type": "markdown",
   "metadata": {},
   "source": [
    "YOUR ANSWER HERE"
   ]
  },
  {
   "cell_type": "markdown",
   "metadata": {},
   "source": [
    "<h4> Question 2.c (4 Marks) </h4>\n",
    "\n",
    "What would be the acceptance and rejection percentage here?"
   ]
  },
  {
   "cell_type": "markdown",
   "metadata": {},
   "source": [
    "YOUR ANSWER HERE"
   ]
  },
  {
   "cell_type": "markdown",
   "metadata": {},
   "source": [
    "<h4> Question 2.d (5 Marks) </h4>\n",
    "\n",
    "<span style=\"color:red\">**Note that this is a challenge question, only attempt if you are comfortable with your progress. You should not use consultations to ask about this question as the tutors will prioritize answering queries about other questions.**\n",
    " </span>\n",
    "\n",
    "Prove that your acceptance/rejection percentage is correct (i.e simulate it) using your own function; furthermore, also provide a graphical display of your final results. The better the display (including interactive, better graphic, etc), the higher the mark you will get for this question."
   ]
  },
  {
   "cell_type": "markdown",
   "metadata": {},
   "source": [
    "YOUR ANSWER HERE"
   ]
  }
 ],
 "metadata": {
  "kernelspec": {
   "display_name": "R",
   "language": "R",
   "name": "ir"
  },
  "language_info": {
   "codemirror_mode": "r",
   "file_extension": ".r",
   "mimetype": "text/x-r-source",
   "name": "R",
   "pygments_lexer": "r",
   "version": "3.6.1"
  }
 },
 "nbformat": 4,
 "nbformat_minor": 2
}
